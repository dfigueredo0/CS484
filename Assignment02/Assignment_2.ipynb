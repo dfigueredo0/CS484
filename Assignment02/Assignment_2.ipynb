{
 "cells": [
  {
   "cell_type": "markdown",
   "id": "9dde1f34-a2a0-4b89-be02-5c371c75a4c8",
   "metadata": {},
   "source": [
    "## Assignment 2 (50 marks)\n",
    "#### =====================================================================================================\n",
    "### Deadline: 09/28 11:59 pm\n",
    "#### ====================================================================================================="
   ]
  },
  {
   "cell_type": "markdown",
   "id": "79a2bcde-24c5-48bf-add3-d767f0398602",
   "metadata": {},
   "source": [
    "### Problem 1: Perceptron Learning (15 marks)\n",
    "\n",
    "The dataset `lab02_dataset_1.csv` has a *3-dimensional input space* and a class label of *Positive* and *Negative*. For this task, you are **not allowed** to use any *functionalities* of the `sklearn` module."
   ]
  },
  {
   "cell_type": "markdown",
   "id": "36b684c6-d9df-4cce-aa97-5f4c21d8cff5",
   "metadata": {},
   "source": [
    "### 1.a (10 marks)\n",
    "\n",
    "Write a function `my_perceptron()` which applies the perceptron algorithm (refer to the lecture slide covering linear separators for details of this algorithm) on the dataset to create a linear separator. `my_perceptron()` takes the dataset as its input and returns a ***3-dimensional weight vector*** which can be used to create the linear separator (assume `bias = 0`). Use the *initial weights* `w = [3.5,0.5,-2.5]`. Use a classification threshold of `99%` i.e., `my_perceptron()` will terminate once the misclassification rate is less than `1%`."
   ]
  },
  {
   "cell_type": "code",
   "execution_count": 2,
   "id": "a18eb238-4c5e-4703-9b23-3b279c773b0e",
   "metadata": {},
   "outputs": [
    {
     "name": "stdout",
     "output_type": "stream",
     "text": [
      "Weights: [0.14536582 2.30319913 0.34978878]\n",
      "Bias: -1\n"
     ]
    }
   ],
   "source": [
    "import pandas as pd\n",
    "import numpy as np\n",
    "\n",
    "def my_perceptron():\n",
    "    data = pd.read_csv('lab02_dataset_1.csv')\n",
    "\n",
    "    inputs = data[['X', 'Y', 'Z']].to_numpy()\n",
    "    classes = data['Class'].map({'Negative': -1, 'Positive': 1}).to_numpy()\n",
    "\n",
    "    weights = np.array([3.5, 0.5, -2.5])\n",
    "    bias = 0\n",
    "    \n",
    "    for iter in range(1000): \n",
    "        err = 0\n",
    "        for i in range(len(inputs)):\n",
    "            a = np.dot(weights, inputs[i]) + bias\n",
    "            predication = 1 if a >= 0 else -1\n",
    "            if predication != classes[i]:\n",
    "                weights += classes[i] * inputs[i]\n",
    "                bias += classes[i]\n",
    "                err += 1\n",
    "        err_rate = err / len(data)\n",
    "        if err_rate <= 0.01:\n",
    "            break\n",
    "    \n",
    "    return weights, bias\n",
    "\n",
    "if __name__ == \"__main__\":\n",
    "    weights, bais = my_perceptron()\n",
    "    print(\"Weights:\", weights)\n",
    "    print(\"Bias:\", bais)"
   ]
  },
  {
   "cell_type": "markdown",
   "id": "f0cf1b6f-9b73-43f1-8b0a-bc1db87e1a54",
   "metadata": {},
   "source": [
    "### 1.b (5 marks)\n",
    "\n",
    "Create a *3D plot* which showcases the dataset in a 3D-space alongwith the *linear separator* you obtained from `my_perceptron()`. Use two different colors to represent the data points belonging in the two classes for ease of viewing."
   ]
  },
  {
   "cell_type": "code",
   "execution_count": 6,
   "id": "e22e4a3b-7586-475a-93e9-aacdb01029ac",
   "metadata": {},
   "outputs": [
    {
     "data": {
      "application/vnd.plotly.v1+json": {
       "config": {
        "plotlyServerURL": "https://plot.ly"
       },
       "data": [
        {
         "hovertemplate": "X=%{x:.3f}<br>Y=%{y:.3f}<br>Z=%{z:.3f}<br>%{text}",
         "marker": {
          "color": "royalblue",
          "size": 4,
          "symbol": "circle"
         },
         "mode": "markers",
         "name": "Positive",
         "text": [
          "Positive",
          "Positive",
          "Positive",
          "Positive",
          "Positive",
          "Positive",
          "Positive",
          "Positive",
          "Positive",
          "Positive",
          "Positive",
          "Positive",
          "Positive",
          "Positive",
          "Positive",
          "Positive",
          "Positive",
          "Positive",
          "Positive",
          "Positive",
          "Positive",
          "Positive",
          "Positive",
          "Positive",
          "Positive",
          "Positive",
          "Positive",
          "Positive",
          "Positive",
          "Positive",
          "Positive",
          "Positive",
          "Positive",
          "Positive",
          "Positive",
          "Positive",
          "Positive",
          "Positive",
          "Positive",
          "Positive",
          "Positive",
          "Positive",
          "Positive",
          "Positive",
          "Positive",
          "Positive",
          "Positive",
          "Positive",
          "Positive",
          "Positive",
          "Positive",
          "Positive",
          "Positive",
          "Positive",
          "Positive",
          "Positive",
          "Positive",
          "Positive",
          "Positive",
          "Positive",
          "Positive",
          "Positive",
          "Positive",
          "Positive",
          "Positive",
          "Positive",
          "Positive",
          "Positive",
          "Positive",
          "Positive",
          "Positive",
          "Positive",
          "Positive",
          "Positive",
          "Positive",
          "Positive",
          "Positive",
          "Positive",
          "Positive",
          "Positive",
          "Positive",
          "Positive",
          "Positive",
          "Positive",
          "Positive",
          "Positive",
          "Positive",
          "Positive",
          "Positive",
          "Positive",
          "Positive",
          "Positive",
          "Positive",
          "Positive",
          "Positive",
          "Positive",
          "Positive",
          "Positive",
          "Positive",
          "Positive"
         ],
         "type": "scatter3d",
         "x": {
          "bdata": "sKC9WC8wBsCj2T29XVULwNnFQk8XvQ3AOcfMu/BLEsA6TJBLTqawv1oOvp1Oufq/GHyWFuOV6z+Il9ykOV37PyDEMS6H9OQ/pHqdL6578T84AiZVlPDlv7ANdsJW+whATiOJPF0cEED6CEr78c4GwP6sVwKLIhHAUHnSzsgr4D//OZqyx+DWP4FI1tmRFPK/oPmyiMl0479AEqqNC3wKQPppGxrubwTAv1YcfSQizj/gAjKIYBb/P+LO7njXkhFAGw2peGv987/6kNeGKVAHQGjg3Jc5aApA6HdIeGvWCsCAXwiHia78v+XtoPB0Rv0/H6zFAXe02b8rkZHZBHgNwGBoTuJO1BHAhZOpCpPME8A8aD53I+YLQJNLSVh6FP6/wJ9VCde53b8gzfg7xy4SQPZEvFnCaRNAGPKHtuL4EUAca4lxfZoCQHIisOmPuAdAJP9WuQt2B0BQ9oduT8zVv6D4tEVsMg7AwEw3SZsdEEBAbG/ohybLv3oG/QE5gQvAfOWlqc5Z9r8gj7FEgBQIQNKdNZcYDwzASPGtX+gV5T/YV0kjdHkSQNfXMvoUEA7A+b06agAXE8CAt/9Mivy7v99sH63tcwxAZKzJktnOB0BaC6TtIYESQKDxrKt7RQNAFmRil1k+EEA442W+STj5Pw99vYUvSdy/kIljP8Hd47+YOnOWr2sIQDD0BdFjAeS/2ZPYN+MkBsAF0WduUeoHwGIj4b1njBDAMAmogyLp5D+As9eHoY8JQLDYEtzwDApA2FuCWXcC8r8EfIyNnLQRQNacQRlWDw3AZH+ZLvsdA0BYARDUg3z+P+AaEyxzJt2/PJjChLh/DkAcErK/rV4IQGy31Ic9BQ9ApB6YPSe4+r+QtGjfUknUv5/qVjlxJMs/vP3n0XmgEEDWWu48YPvwv+hajY4sCQBAYCrRDrZ63L+8kJkfjfv7v9Rze3BQbANA2UDZ5xLhDkC8rhx2bCPzPxizt/lZoPG/4om/ZnelE0CQxbkztBcPQDtVQYlZUPy/1eYaEz0nD0CWbbIaPkUQwGaAgvw92wdA7AiIaeu7+z8=",
          "dtype": "f8"
         },
         "y": {
          "bdata": "EqyXLnqUEkAIQpXvvygTQHacoAMOFQxAgSDyUxRPCEDFMAPoRSH/P7ISIgc1SQFAIZbSefrhAEA4k5ST8tz+P172sfGgbRNAks4mBWviCkAk5HAIebT2P5GC9AZvAgFArXAa2iCBDUDIMrpmTQURQLUUMVwhUQxAOoLdkNJoDkBgnOHMjRUNQMinG4ubDvM/G7b0jkL9/z9Wqjlp7TAAQFqC6wjWtQNAruhVB+LIC0AbIXOLlgkIQJpHYtQFxvg/N5ltA6Bo8z/Wdujtfk8EQL19WQdcBxFATiU9A5a7/D+mXM06WnEJQOGX7FG8awNAzR61jGenEkA899Anh4MHQPRx9HjdNhNA5iNIDrD2A0Az0/UyOfsRQPpSloVMpApAL5016jdJC0Bc0143ikAKQI3A3tt9mxNAprms9sed8D8ORPeUm2gIQMLgys6onPs/Q8Hum9djEECe1bq6Y5sRQF4ZVjpF+RNA1iXXAGuKDkBNOqew2JoQQElq2Xk5KRNASCpu7xShAkC8KzbWecIJQB6e4R2FO/M/v2GEV/mqBEAUTqRQdSsGQDVQjR/wyBJA5dkq4GdMEUD1WF+ySxoTQKnfG1ANuQ9A+iiC6P/iBUBTvnCvHBUFQPitR+0D4wlAoxhHhWAq+z9XJm5ni+kKQDu7yOxZjAtAFNhuImeJE0BVDG3UOtoQQJ0kEN4CrRNAUvQN+vwRCUDWE9F7H28SQAr1XzFzQAdAxmhAiTc+A0DeoZlpdMYSQAr6j1nCKvs/ICX48M/S8T9s2ho2dysTQFob0xYR3fc/oG59UuqxEkA0tEx7T+USQK7nMtQgKvY/LpeEi5yGEUB5uMWLSinyP5p/bEiBi/0/L19/KTwRBUBCNS+oX0MBQBTH5SqswARAtuQKHxKW+T8EvhisR2oTQIUUt05XfPk/DPZrFNq/BkCfQPe31l8FQFZdXXXtwBFAlh1wKf0QEUC8jqprvXISQGZ0c3zRkAxAywOqXfqECkAgDYqWg7ESQK0lcVre4AtARG1zzn9CEEBJRsGS+cgEQGrLp0i/Rfk/P70xhMBvCkA=",
          "dtype": "f8"
         },
         "z": {
          "bdata": "ihC1A4tMA0DSYzt03UIJQGadNvbpTgtABUnof19lwD+ghUfevOr8P1Azat+U7A9AixfmWm1d9D+fKINWN90TQKzesBdw2uE/xCYhCUvREECMKWARR1YJQP0HMReTGO4/yqXuJ8ASB0BLRQ4uJdW3PyTVVMZACwxAUJ8P1LpqE0BuFqOthMLiv3Ky1AjROhNAKrIS2nM66L8se4nd/DYHQJRr3umJOuW/CgHk7LvtCECAlb4ETVsAQF10RcI1cu4/H2bN/BcrDUAEGBETjFgAQNo3uT2Jovs/x7rO4+A93T/+odR2zYeGvxz2I6ANhAVAELoN/H6l5b+yx+ZIUWwJQOeAA+gPIwFA6BMIEkeuCEA322L032sCQOwXkuhk8A5AzsXAF84r4D+MrRb2xAcGQPQJrQGv6xJAeKUPZLmo2j/gOIaUi7sLQL4dRZddxLK/0iB3WSej6b88d4KgN7DSvyhlODCD/fw/1qaBeIfjCkB6nGmWSmjnv8CIk0R0KAVAQDYzXcoWCUDAGcJUPFrUP9qp9A7D9++/xlswJclA4D+c6kx/GovYPyQroSmJzvM/3/KWfSOb279ajn1IbSH2P681ToRYYPo/iK8MdUH3BUBktWgJq7fyP6d9y2nMxhNAMnKd++pkDUDA+wfVuBYIQJRe5xqsTeg/tNYYD7OnBkDkSV5aVSnzP4QDZ3JJd96/NPB3R8TtBkCxVHdftRUPQLCGq8Okqte/ATELUb0FDkAwoAz4VBrivyv9yYx9XQ9A8AD7aWF6+T/KQFBK/RvzPyZOMM0mm++/Fq9gwHOYA0DE/GaziKr3P/AZtFtWzPg/hLpb0gdPBkCpMyKYBvIQQEyaxjWeRtM/HYFosjwQA0BzvyLUbiUDQPAwDRPoxfU/CLYAzJcJzT8yv6EMYe3vvxjF0WMmLtK/bBiuprMUCkC0B+G0n9n1P0wMjPEugAxA+mpKkY4Nu7+G1YJbzG0GQFPz0mxeLP4/PDkjBcdZ77/I2cgsAaYOQM8FJuuEHtc/g5iEsm1Y+T+j/HZpadLcv9cmwHvpQcA/rypY9CtY3L8=",
          "dtype": "f8"
         }
        },
        {
         "hovertemplate": "X=%{x:.3f}<br>Y=%{y:.3f}<br>Z=%{z:.3f}<br>%{text}",
         "marker": {
          "color": "tomato",
          "size": 4,
          "symbol": "diamond"
         },
         "mode": "markers",
         "name": "Negative",
         "text": [
          "Negative",
          "Negative",
          "Negative",
          "Negative",
          "Negative",
          "Negative",
          "Negative",
          "Negative",
          "Negative",
          "Negative",
          "Negative",
          "Negative",
          "Negative",
          "Negative",
          "Negative",
          "Negative",
          "Negative",
          "Negative",
          "Negative",
          "Negative",
          "Negative",
          "Negative",
          "Negative",
          "Negative",
          "Negative",
          "Negative",
          "Negative",
          "Negative",
          "Negative",
          "Negative",
          "Negative",
          "Negative",
          "Negative",
          "Negative",
          "Negative",
          "Negative",
          "Negative",
          "Negative",
          "Negative",
          "Negative",
          "Negative",
          "Negative",
          "Negative",
          "Negative",
          "Negative",
          "Negative",
          "Negative",
          "Negative",
          "Negative",
          "Negative",
          "Negative",
          "Negative",
          "Negative",
          "Negative",
          "Negative",
          "Negative",
          "Negative",
          "Negative",
          "Negative",
          "Negative",
          "Negative",
          "Negative",
          "Negative",
          "Negative",
          "Negative",
          "Negative",
          "Negative",
          "Negative",
          "Negative",
          "Negative",
          "Negative",
          "Negative",
          "Negative",
          "Negative",
          "Negative",
          "Negative",
          "Negative",
          "Negative",
          "Negative",
          "Negative",
          "Negative",
          "Negative",
          "Negative",
          "Negative",
          "Negative",
          "Negative",
          "Negative",
          "Negative",
          "Negative",
          "Negative",
          "Negative",
          "Negative",
          "Negative",
          "Negative",
          "Negative",
          "Negative",
          "Negative",
          "Negative",
          "Negative",
          "Negative"
         ],
         "type": "scatter3d",
         "x": {
          "bdata": "RnGaPuU5AcDQU2VxStYKQPERyO72HwdAHWShkB2kBsDct+0Pb/YJQOA4sQOY6gBA0kiVb7bSE0CHjKnJCLgMwIHYcM84jwtAtlEFav47EsCe8zI9VqYCwNgGJvChrQDApBiXsdY8BkCItXYM9zARQHCEle+xFQLArg8sScjjEcDKQbNSraILwHTvai8jWgNAV/qCwCly87+ehraKrCoFwJThDxYMRA1Ap52iZH0DD0CQNi0J97b5vxV+GYp9HAbAPKZaQim4CMATMQeHAgUGwO3z0mnSD5M/rIhmIv3RC0BAlNeFy2D/v2TY5urHWwFA8L7OCgmo7b/Qcx/9e0yLvwjSQCL2/ug/Zs2onYikEkA8+qu17RPwv5Fhu0s/8RDAskt9NZl5EkArl9abCr0TwGzUNH8VMg5A2KATLrYdBUBHcQtoLyYRwGjMDivaZPU/DySLYxgR0j/EkPw8HqoRQIq2LmpGTAvAqhYZGSVrAcDwrQv0LKARQHxF65mPo/i/AO+gZS+UDMDw7F98QBXZv/YJFZCYQgRAWF/SgmobDEB+seIAkoQOwBCvynlQ5BFA35xnFFXV1r+5wGW9BZ/7P2BIH7mSBds/ov67vxtdCMCozyqERmznPwVPJyKLeRPA+Ev3xL7cCEBbJVYLTp8AQPz4WwKlFPw/75JGakSQ0T9IMLl+bA8TwLiKHBkpnQjAXkqc669NBcDMN/sdV54NwGaz6Aqdqg1AC9OqDQoND0At7EK0jYr+v8joIRKJJwdAmIU8lrYD9D9AInZDenr+P6LrJBkBKhFAPhMRV7QWCsAA18fSBN3tP85y+gme6RFAABn2L5ZIDECsaxxgwPATQAkcPl3xpwnA3Jf82ff78j/s/my32VIAQNwpqIhilRNAkSFeFtuF/r96PQClIXGzv7DIknf7pwlA1/FcTKsqEsCe9jrxPmQPQEcRHr9zrv+/PEj2HEL7AkDg3518RMQQwPiFS8F91gBAYJ1q1g3lDEDoLLTH4q3jv9YjlHcmNRHAfVZUU8cL/b/MFuo5kL/8P0AEDvJWB9u/zXwjAr3RB0A=",
          "dtype": "f8"
         },
         "y": {
          "bdata": "c1/o1byP/r9KospU59n8v4TmEWYSBPO/0idG2nUwAMA2ilBxyHQDwAO6UbnXYwLAAr4BdyOqC8BcT7K73Tvzv24pY1oN1vS/i+ZfVFib/r88HVx/k8T7vxi0zBQPVw7AwplGPtHu+b/kul/UsjUTwKAfbI+9dwLACK9QFmhhA8AITWXBJJj+vxawAyeIugTAfDRNWDKzAsBrXobnEIsOwKYQOKM/6xHA0dfGl2YsBMDl5wPMniYFwDjXZy2wb/S/XMhkc0+d97/2KfGsFpkTwDDdTQXhWPu/njizM0i/E8C+4DvY+A4QwDIPK0ivBg/ApJMlVBBn/b+u+pNLJTkEwCTaK0ywM/q/nHv8P9HQ/r+w9eo4L232vyy3LqwYzwjAMlC75u5B/b998nx8jo8FwLzVU1zMUg3AKBlac7/tBsDvR5q/OHv/vxhOzgmM6/e/eAIQnyT/EsBaUXYIaBERwEqzFtc56wrAkDxFSeP39b9gonnZoOIMwH832I2VJQrATa+ufYJXA8Dnn5LWaU3/v3I1Lz/U8ADAFNV/fq0S+L/iCt3c/W8KwHTECAh6QxDA3gKeH9OZD8BRVAnU390QwKApPxMmzwHAyQJydITNCsCUizVT7sn1vxqCwg4S0BHA5SUVSRNyEcDAARH9nuATwBSZUprGofW/rKAkGBLDB8CwnTY74e4KwEYZM9sWowXAyB1f6AK0/b/6+az5vhz/vxRm1pD+2gnA8FOONiR6DsDYf0iN2rcEwFb8FzPpDfm/zl8tS4Vr9b9UdBbEtBARwEpE8t7oTRHAs3gpxRm1C8Bg5ccNT3wPwLzs8KUQbRHAS4Zu2x34BMBeTagQRZoDwEYKGp++fwLAezJQHAs7DsBymAwnecLyv7ilnAR+hwbAe6nFw9i/A8CoCtsMcvEGwArkRUjhGPu/TlaDBXBwBcDCInJiEggEwCAncRRgLQLAr45QK1Kg/b+S9sAg6voFwOpwHP7ufAzAi64gqy1bEcAg1qb7VM8QwHscX2qf+/O/ADa4sV5e8r/9bdTCPHQPwNcIl4ZCPQ7AFZe+immxBMA=",
          "dtype": "f8"
         },
         "z": {
          "bdata": "kqa5ua62AMBgOZgPXswGwHqSd8z/kvu/SNqP2cIp4D82R4lJ/Fb/vx6WBilAtsI/7AOg9UsZ8b+M6vcP7IERwC7NLan9YQnADg5yKUf8+L+N8Ca5AvQOwPSy5CEq1QrAChOnLKl5BcCXxR9CsUEMwPTnvotE4grA5sRVwiDqEcAf24tyGZXUP4KvEqhJq/q/UPdtjJBx2j/vqbqwU20NwK+lpEhALtO/LMzp6sAc/L+f4YUH2ZzVv93c9wnETwPAyL3jCYkYEMDA0nHFEsTmP7Dmq2wIk+0/v/zHGmDjAsBRmgBHPbMRwKy3N63ljQLA4J0QbDH/6T+Y5cKi0QrkPzgWgUrrFug/EAU/NWBT6b/AojGE9rftPwz9F3p6Y/W/SHJt6n6R5j9Woydgzv0SwNYcU/XFEgLAAAi9v/LNhz9SQ7flGvkSwN5Eog+xjc+/g0Fj7WCnAMD+oQF8iWvCP7RaXc4dVg/Ay8WvgHYPBMBwrFo8y6kSwPKGf2Reg5I/YBMdL/6T97+4uxP3a1z0v6l4merk/QTA3LkO43DYCcCIdSacIVjkP6gRybnKKOI/tfcs2PTuBsAVqGgf+OATwFAUKVl1luY/2JxilgFx67+Sm5FkHeAGwGA91XpxOOO/8sZUle2PE8D0p75QzimOP5emzV9y4g/AmHqmF4Rs6j/E6JcuXJoPwKjZMuBZP/a/GnseuhUTEsByi36Nr08QwBL94uuGevy/n11q5+N10T9yKE+vOOgQwLDNh3xrRhHAP2qTfeh5DsDCqAgI6cUQwHj9iTezfg7A6J3e17fN5T+TqUQrjBwQwKcWw3lutPq/mp3yf0qqBMCS7uhc0CcQwH+6RjLqb/G/CPoLzgK2DsCuh3+dS9UNwKsT+86xIgzAP2blwdY837/AQDJ6SQ8DwEBeSIcjvcy//5qinoJV3L+fpUh81kfdv8fF8yYhRw7AghJYFig8DcDQu9OxRyLVP9FptFmVTO6/f7XLM4TbBMAqQKGwdt4SwH+QEXxmAxDAw52rGyTL+b/gIjFsOSHGv04mRRynEgLAFP8We8rX8r8=",
          "dtype": "f8"
         }
        },
        {
         "name": "separator",
         "opacity": 0.35,
         "showscale": false,
         "type": "surface",
         "x": {
          "bdata": "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",
          "dtype": "f8",
          "shape": "40, 40"
         },
         "y": {
          "bdata": "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",
          "dtype": "f8",
          "shape": "40, 40"
         },
         "z": {
          "bdata": "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",
          "dtype": "f8",
          "shape": "40, 40"
         }
        }
       ],
       "layout": {
        "legend": {
         "x": 0.02,
         "y": 0.98
        },
        "scene": {
         "aspectmode": "data",
         "xaxis": {
          "title": {
           "text": "X"
          }
         },
         "yaxis": {
          "title": {
           "text": "Y"
          }
         },
         "zaxis": {
          "title": {
           "text": "Z"
          }
         }
        },
        "template": {
         "data": {
          "bar": [
           {
            "error_x": {
             "color": "#2a3f5f"
            },
            "error_y": {
             "color": "#2a3f5f"
            },
            "marker": {
             "line": {
              "color": "#E5ECF6",
              "width": 0.5
             },
             "pattern": {
              "fillmode": "overlay",
              "size": 10,
              "solidity": 0.2
             }
            },
            "type": "bar"
           }
          ],
          "barpolar": [
           {
            "marker": {
             "line": {
              "color": "#E5ECF6",
              "width": 0.5
             },
             "pattern": {
              "fillmode": "overlay",
              "size": 10,
              "solidity": 0.2
             }
            },
            "type": "barpolar"
           }
          ],
          "carpet": [
           {
            "aaxis": {
             "endlinecolor": "#2a3f5f",
             "gridcolor": "white",
             "linecolor": "white",
             "minorgridcolor": "white",
             "startlinecolor": "#2a3f5f"
            },
            "baxis": {
             "endlinecolor": "#2a3f5f",
             "gridcolor": "white",
             "linecolor": "white",
             "minorgridcolor": "white",
             "startlinecolor": "#2a3f5f"
            },
            "type": "carpet"
           }
          ],
          "choropleth": [
           {
            "colorbar": {
             "outlinewidth": 0,
             "ticks": ""
            },
            "type": "choropleth"
           }
          ],
          "contour": [
           {
            "colorbar": {
             "outlinewidth": 0,
             "ticks": ""
            },
            "colorscale": [
             [
              0,
              "#0d0887"
             ],
             [
              0.1111111111111111,
              "#46039f"
             ],
             [
              0.2222222222222222,
              "#7201a8"
             ],
             [
              0.3333333333333333,
              "#9c179e"
             ],
             [
              0.4444444444444444,
              "#bd3786"
             ],
             [
              0.5555555555555556,
              "#d8576b"
             ],
             [
              0.6666666666666666,
              "#ed7953"
             ],
             [
              0.7777777777777778,
              "#fb9f3a"
             ],
             [
              0.8888888888888888,
              "#fdca26"
             ],
             [
              1,
              "#f0f921"
             ]
            ],
            "type": "contour"
           }
          ],
          "contourcarpet": [
           {
            "colorbar": {
             "outlinewidth": 0,
             "ticks": ""
            },
            "type": "contourcarpet"
           }
          ],
          "heatmap": [
           {
            "colorbar": {
             "outlinewidth": 0,
             "ticks": ""
            },
            "colorscale": [
             [
              0,
              "#0d0887"
             ],
             [
              0.1111111111111111,
              "#46039f"
             ],
             [
              0.2222222222222222,
              "#7201a8"
             ],
             [
              0.3333333333333333,
              "#9c179e"
             ],
             [
              0.4444444444444444,
              "#bd3786"
             ],
             [
              0.5555555555555556,
              "#d8576b"
             ],
             [
              0.6666666666666666,
              "#ed7953"
             ],
             [
              0.7777777777777778,
              "#fb9f3a"
             ],
             [
              0.8888888888888888,
              "#fdca26"
             ],
             [
              1,
              "#f0f921"
             ]
            ],
            "type": "heatmap"
           }
          ],
          "histogram": [
           {
            "marker": {
             "pattern": {
              "fillmode": "overlay",
              "size": 10,
              "solidity": 0.2
             }
            },
            "type": "histogram"
           }
          ],
          "histogram2d": [
           {
            "colorbar": {
             "outlinewidth": 0,
             "ticks": ""
            },
            "colorscale": [
             [
              0,
              "#0d0887"
             ],
             [
              0.1111111111111111,
              "#46039f"
             ],
             [
              0.2222222222222222,
              "#7201a8"
             ],
             [
              0.3333333333333333,
              "#9c179e"
             ],
             [
              0.4444444444444444,
              "#bd3786"
             ],
             [
              0.5555555555555556,
              "#d8576b"
             ],
             [
              0.6666666666666666,
              "#ed7953"
             ],
             [
              0.7777777777777778,
              "#fb9f3a"
             ],
             [
              0.8888888888888888,
              "#fdca26"
             ],
             [
              1,
              "#f0f921"
             ]
            ],
            "type": "histogram2d"
           }
          ],
          "histogram2dcontour": [
           {
            "colorbar": {
             "outlinewidth": 0,
             "ticks": ""
            },
            "colorscale": [
             [
              0,
              "#0d0887"
             ],
             [
              0.1111111111111111,
              "#46039f"
             ],
             [
              0.2222222222222222,
              "#7201a8"
             ],
             [
              0.3333333333333333,
              "#9c179e"
             ],
             [
              0.4444444444444444,
              "#bd3786"
             ],
             [
              0.5555555555555556,
              "#d8576b"
             ],
             [
              0.6666666666666666,
              "#ed7953"
             ],
             [
              0.7777777777777778,
              "#fb9f3a"
             ],
             [
              0.8888888888888888,
              "#fdca26"
             ],
             [
              1,
              "#f0f921"
             ]
            ],
            "type": "histogram2dcontour"
           }
          ],
          "mesh3d": [
           {
            "colorbar": {
             "outlinewidth": 0,
             "ticks": ""
            },
            "type": "mesh3d"
           }
          ],
          "parcoords": [
           {
            "line": {
             "colorbar": {
              "outlinewidth": 0,
              "ticks": ""
             }
            },
            "type": "parcoords"
           }
          ],
          "pie": [
           {
            "automargin": true,
            "type": "pie"
           }
          ],
          "scatter": [
           {
            "fillpattern": {
             "fillmode": "overlay",
             "size": 10,
             "solidity": 0.2
            },
            "type": "scatter"
           }
          ],
          "scatter3d": [
           {
            "line": {
             "colorbar": {
              "outlinewidth": 0,
              "ticks": ""
             }
            },
            "marker": {
             "colorbar": {
              "outlinewidth": 0,
              "ticks": ""
             }
            },
            "type": "scatter3d"
           }
          ],
          "scattercarpet": [
           {
            "marker": {
             "colorbar": {
              "outlinewidth": 0,
              "ticks": ""
             }
            },
            "type": "scattercarpet"
           }
          ],
          "scattergeo": [
           {
            "marker": {
             "colorbar": {
              "outlinewidth": 0,
              "ticks": ""
             }
            },
            "type": "scattergeo"
           }
          ],
          "scattergl": [
           {
            "marker": {
             "colorbar": {
              "outlinewidth": 0,
              "ticks": ""
             }
            },
            "type": "scattergl"
           }
          ],
          "scattermap": [
           {
            "marker": {
             "colorbar": {
              "outlinewidth": 0,
              "ticks": ""
             }
            },
            "type": "scattermap"
           }
          ],
          "scattermapbox": [
           {
            "marker": {
             "colorbar": {
              "outlinewidth": 0,
              "ticks": ""
             }
            },
            "type": "scattermapbox"
           }
          ],
          "scatterpolar": [
           {
            "marker": {
             "colorbar": {
              "outlinewidth": 0,
              "ticks": ""
             }
            },
            "type": "scatterpolar"
           }
          ],
          "scatterpolargl": [
           {
            "marker": {
             "colorbar": {
              "outlinewidth": 0,
              "ticks": ""
             }
            },
            "type": "scatterpolargl"
           }
          ],
          "scatterternary": [
           {
            "marker": {
             "colorbar": {
              "outlinewidth": 0,
              "ticks": ""
             }
            },
            "type": "scatterternary"
           }
          ],
          "surface": [
           {
            "colorbar": {
             "outlinewidth": 0,
             "ticks": ""
            },
            "colorscale": [
             [
              0,
              "#0d0887"
             ],
             [
              0.1111111111111111,
              "#46039f"
             ],
             [
              0.2222222222222222,
              "#7201a8"
             ],
             [
              0.3333333333333333,
              "#9c179e"
             ],
             [
              0.4444444444444444,
              "#bd3786"
             ],
             [
              0.5555555555555556,
              "#d8576b"
             ],
             [
              0.6666666666666666,
              "#ed7953"
             ],
             [
              0.7777777777777778,
              "#fb9f3a"
             ],
             [
              0.8888888888888888,
              "#fdca26"
             ],
             [
              1,
              "#f0f921"
             ]
            ],
            "type": "surface"
           }
          ],
          "table": [
           {
            "cells": {
             "fill": {
              "color": "#EBF0F8"
             },
             "line": {
              "color": "white"
             }
            },
            "header": {
             "fill": {
              "color": "#C8D4E3"
             },
             "line": {
              "color": "white"
             }
            },
            "type": "table"
           }
          ]
         },
         "layout": {
          "annotationdefaults": {
           "arrowcolor": "#2a3f5f",
           "arrowhead": 0,
           "arrowwidth": 1
          },
          "autotypenumbers": "strict",
          "coloraxis": {
           "colorbar": {
            "outlinewidth": 0,
            "ticks": ""
           }
          },
          "colorscale": {
           "diverging": [
            [
             0,
             "#8e0152"
            ],
            [
             0.1,
             "#c51b7d"
            ],
            [
             0.2,
             "#de77ae"
            ],
            [
             0.3,
             "#f1b6da"
            ],
            [
             0.4,
             "#fde0ef"
            ],
            [
             0.5,
             "#f7f7f7"
            ],
            [
             0.6,
             "#e6f5d0"
            ],
            [
             0.7,
             "#b8e186"
            ],
            [
             0.8,
             "#7fbc41"
            ],
            [
             0.9,
             "#4d9221"
            ],
            [
             1,
             "#276419"
            ]
           ],
           "sequential": [
            [
             0,
             "#0d0887"
            ],
            [
             0.1111111111111111,
             "#46039f"
            ],
            [
             0.2222222222222222,
             "#7201a8"
            ],
            [
             0.3333333333333333,
             "#9c179e"
            ],
            [
             0.4444444444444444,
             "#bd3786"
            ],
            [
             0.5555555555555556,
             "#d8576b"
            ],
            [
             0.6666666666666666,
             "#ed7953"
            ],
            [
             0.7777777777777778,
             "#fb9f3a"
            ],
            [
             0.8888888888888888,
             "#fdca26"
            ],
            [
             1,
             "#f0f921"
            ]
           ],
           "sequentialminus": [
            [
             0,
             "#0d0887"
            ],
            [
             0.1111111111111111,
             "#46039f"
            ],
            [
             0.2222222222222222,
             "#7201a8"
            ],
            [
             0.3333333333333333,
             "#9c179e"
            ],
            [
             0.4444444444444444,
             "#bd3786"
            ],
            [
             0.5555555555555556,
             "#d8576b"
            ],
            [
             0.6666666666666666,
             "#ed7953"
            ],
            [
             0.7777777777777778,
             "#fb9f3a"
            ],
            [
             0.8888888888888888,
             "#fdca26"
            ],
            [
             1,
             "#f0f921"
            ]
           ]
          },
          "colorway": [
           "#636efa",
           "#EF553B",
           "#00cc96",
           "#ab63fa",
           "#FFA15A",
           "#19d3f3",
           "#FF6692",
           "#B6E880",
           "#FF97FF",
           "#FECB52"
          ],
          "font": {
           "color": "#2a3f5f"
          },
          "geo": {
           "bgcolor": "white",
           "lakecolor": "white",
           "landcolor": "#E5ECF6",
           "showlakes": true,
           "showland": true,
           "subunitcolor": "white"
          },
          "hoverlabel": {
           "align": "left"
          },
          "hovermode": "closest",
          "mapbox": {
           "style": "light"
          },
          "paper_bgcolor": "white",
          "plot_bgcolor": "#E5ECF6",
          "polar": {
           "angularaxis": {
            "gridcolor": "white",
            "linecolor": "white",
            "ticks": ""
           },
           "bgcolor": "#E5ECF6",
           "radialaxis": {
            "gridcolor": "white",
            "linecolor": "white",
            "ticks": ""
           }
          },
          "scene": {
           "xaxis": {
            "backgroundcolor": "#E5ECF6",
            "gridcolor": "white",
            "gridwidth": 2,
            "linecolor": "white",
            "showbackground": true,
            "ticks": "",
            "zerolinecolor": "white"
           },
           "yaxis": {
            "backgroundcolor": "#E5ECF6",
            "gridcolor": "white",
            "gridwidth": 2,
            "linecolor": "white",
            "showbackground": true,
            "ticks": "",
            "zerolinecolor": "white"
           },
           "zaxis": {
            "backgroundcolor": "#E5ECF6",
            "gridcolor": "white",
            "gridwidth": 2,
            "linecolor": "white",
            "showbackground": true,
            "ticks": "",
            "zerolinecolor": "white"
           }
          },
          "shapedefaults": {
           "line": {
            "color": "#2a3f5f"
           }
          },
          "ternary": {
           "aaxis": {
            "gridcolor": "white",
            "linecolor": "white",
            "ticks": ""
           },
           "baxis": {
            "gridcolor": "white",
            "linecolor": "white",
            "ticks": ""
           },
           "bgcolor": "#E5ECF6",
           "caxis": {
            "gridcolor": "white",
            "linecolor": "white",
            "ticks": ""
           }
          },
          "title": {
           "x": 0.05
          },
          "xaxis": {
           "automargin": true,
           "gridcolor": "white",
           "linecolor": "white",
           "ticks": "",
           "title": {
            "standoff": 15
           },
           "zerolinecolor": "white",
           "zerolinewidth": 2
          },
          "yaxis": {
           "automargin": true,
           "gridcolor": "white",
           "linecolor": "white",
           "ticks": "",
           "title": {
            "standoff": 15
           },
           "zerolinecolor": "white",
           "zerolinewidth": 2
          }
         }
        },
        "title": {
         "text": "Perceptron Linear Separator (3D, Plotly)"
        }
       }
      }
     },
     "metadata": {},
     "output_type": "display_data"
    }
   ],
   "source": [
    "import plotly.graph_objects as go\n",
    "\n",
    "def plot(weights, bias):\n",
    "    df = pd.read_csv('lab02_dataset_1.csv')\n",
    "    inputs = df[['X','Y','Z']].to_numpy(dtype=float)\n",
    "    cls = df['Class'].map({'Negative': -1, 'Positive': 1}).to_numpy(dtype=int)\n",
    "\n",
    "    # Split for two colors\n",
    "    pos = (cls == 1)\n",
    "    neg = (cls == -1)\n",
    "\n",
    "    fig = go.Figure()\n",
    "\n",
    "    # Positive class\n",
    "    fig.add_trace(go.Scatter3d(\n",
    "        x=inputs[pos,0], y=inputs[pos,1], z=inputs[pos,2],\n",
    "        mode=\"markers\",\n",
    "        marker=dict(size=4, symbol=\"circle\", color=\"royalblue\"),\n",
    "        name=\"Positive\",\n",
    "        text=[\"Positive\"]*pos.sum(),\n",
    "        hovertemplate=\"X=%{x:.3f}<br>Y=%{y:.3f}<br>Z=%{z:.3f}<br>%{text}\"\n",
    "    ))\n",
    "\n",
    "    # Negative class\n",
    "    fig.add_trace(go.Scatter3d(\n",
    "        x=inputs[neg,0], y=inputs[neg,1], z=inputs[neg,2],\n",
    "        mode=\"markers\",\n",
    "        marker=dict(size=4, symbol=\"diamond\", color=\"tomato\"),\n",
    "        name=\"Negative\",\n",
    "        text=[\"Negative\"]*neg.sum(),\n",
    "        hovertemplate=\"X=%{x:.3f}<br>Y=%{y:.3f}<br>Z=%{z:.3f}<br>%{text}\"\n",
    "    ))\n",
    "\n",
    "    x_min, x_max = inputs[:,0].min(), inputs[:,0].max()\n",
    "    y_min, y_max = inputs[:,1].min(), inputs[:,1].max()\n",
    "    z_min, z_max = inputs[:,2].min(), inputs[:,2].max()\n",
    "\n",
    "    pad = 0.05\n",
    "    x_range, y_range, z_range = x_max-x_min, y_max-y_min, z_max-z_min\n",
    "    x_min, x_max = x_min - pad*x_range, x_max + pad*x_range\n",
    "    y_min, y_max = y_min - pad*y_range, y_max + pad*y_range\n",
    "    z_min, z_max = z_min - pad*z_range, z_max + pad*z_range\n",
    "\n",
    "    grid = 40\n",
    "\n",
    "    x_grid = np.linspace(x_min, x_max, grid)\n",
    "    y_grid = np.linspace(y_min, y_max, grid)\n",
    "    X_grid, Y_grid = np.meshgrid(x_grid, y_grid)\n",
    "    Z_grid = -(weights[0]*X_grid + weights[1]*Y_grid + bias) / weights[2]\n",
    "    Z_grid = np.clip(Z_grid, z_min, z_max)\n",
    "    fig.add_trace(go.Surface(\n",
    "        x=X_grid, y=Y_grid, z=Z_grid,\n",
    "        opacity=0.35, showscale=False,\n",
    "        name=\"separator\"\n",
    "    ))\n",
    "    \n",
    "    fig.update_layout(\n",
    "        title=\"Perceptron Linear Separator (3D, Plotly)\",\n",
    "        scene=dict(\n",
    "            xaxis_title=\"X\", yaxis_title=\"Y\", zaxis_title=\"Z\",\n",
    "            aspectmode=\"data\"\n",
    "        ),\n",
    "        legend=dict(x=0.02, y=0.98)\n",
    "    )\n",
    "\n",
    "    fig.show()\n",
    "\n",
    "    \n",
    "if __name__ == \"__main__\":\n",
    "    weights, bias = my_perceptron()\n",
    "    plot(weights, bias)"
   ]
  },
  {
   "cell_type": "markdown",
   "id": "898e703c-af66-416d-89e3-1a3d8390fc89",
   "metadata": {},
   "source": [
    "### Problem 2: SVM Classification (35 marks)\n",
    "\n",
    "`lab02_dataset_2.xlsx` contains the claim history of 27,513 homeowner policies. The following table describes the eleven columns in the dataset.\n",
    "\n",
    "| Name | Description |\n",
    "| --- | --- |\n",
    "| policy | Policy Identifier |\n",
    "| exposure | Duration a Policy exposed in a Year |\n",
    "| num_claims | Number of Claims in a Year |\n",
    "| amt_claims | Total Claim Amount in a Year\t|\n",
    "| f_primary_age_tier | Age Tier of Primary Insured |\n",
    "| f_primary_gender | Gender of Primary Insured |\n",
    "| f_marital | Marital Status of Primary Insured |\n",
    "| f_residence_location | Location of Residence Property |\n",
    "| f_fire_alarm_type | Fire Alarm Type |\n",
    "| f_mile_fire_station | Distance to Nearest Fire Station |\n",
    "| f_aoi_tier | Amount of Insurance Tier |"
   ]
  },
  {
   "cell_type": "markdown",
   "id": "2d3f4715-3c4d-4253-9e70-fab96f191ab8",
   "metadata": {},
   "source": [
    "We want to predict the *Frequency* which is the *number of claims per unit of exposure* using the above features.  We first divide the reported number of claims by the exposure. This gives us the *Frequency*.  Next, we put the policies into five groups according to their *Frequency* values. We will use this *Group* as our target variable which has five classes.\n",
    "\n",
    "| Group | Values |\n",
    "| :--- | :--- |\n",
    "| 0 | Frequency = 0 |\n",
    "| 1 | 0 < Frequency <= 1 |\n",
    "| 2 | 1 < Frequency <= 2 |\n",
    "| 3 | 2 < Frequency <= 3 |\n",
    "| 4 | 3 < Frequency |"
   ]
  },
  {
   "cell_type": "markdown",
   "id": "dbe26cf5-fd5a-4da0-bb8e-15550898d663",
   "metadata": {},
   "source": [
    "### 2.a (6 marks)\n",
    "Create a new column for the dataset which will indiciate the *Frequency Group* and output the updated dataset."
   ]
  },
  {
   "cell_type": "code",
   "execution_count": 31,
   "id": "8349f391-09e8-4202-b36d-a7c23a6419b4",
   "metadata": {},
   "outputs": [
    {
     "name": "stdout",
     "output_type": "stream",
     "text": [
      "   policy  exposure  num_claims  amt_claims f_primary_age_tier  \\\n",
      "0  P00001       1.0           0        0.00            21 - 27   \n",
      "1  G00002       1.0           0        0.00            38 - 60   \n",
      "2  A00003       1.0           2     3079.01            38 - 60   \n",
      "3  P00004       1.0           1      804.87            28 - 37   \n",
      "4  G00005       1.0           1      638.74            28 - 37   \n",
      "\n",
      "  f_primary_gender   f_marital f_residence_location f_fire_alarm_type  \\\n",
      "0             Male     Married                Urban     Alarm Service   \n",
      "1             Male  Un-Married             Suburban               NaN   \n",
      "2           Female     Married             Suburban        Standalone   \n",
      "3           Female  Un-Married             Suburban        Standalone   \n",
      "4           Female  Un-Married             Suburban     Alarm Service   \n",
      "\n",
      "  f_mile_fire_station   f_aoi_tier  frequency_group  \n",
      "0            < 1 mile  351K - 600K                0  \n",
      "1         1 - 5 miles       < 100K                0  \n",
      "2            < 1 mile  100K - 350K                2  \n",
      "3         1 - 5 miles       < 100K                1  \n",
      "4            < 1 mile  100K - 350K                1  \n"
     ]
    }
   ],
   "source": [
    "def add_column(name):\n",
    "    df = pd.read_excel('lab02_dataset_2.xlsx')\n",
    "    frequency = np.divide(df['num_claims'].values, df['exposure'].values, where=df['exposure'].values!=0, out=np.zeros_like(df['num_claims'].values, dtype=float))\n",
    "    groups = np.select(\n",
    "        [frequency == 0, (frequency > 0) & (frequency <= 1), (frequency > 1) & (frequency <= 2), (frequency > 2) & (frequency <= 3)],\n",
    "        ['0', '1', '2', '3'],\n",
    "        default='4'\n",
    "    ).astype(int)\n",
    "    \n",
    "    df[name] = groups\n",
    "    df.to_excel('lab02_dataset_2_freq.xlsx', index=False)\n",
    "    print(df.head())\n",
    "    \n",
    "if __name__ == \"__main__\":\n",
    "    add_column('frequency_group')"
   ]
  },
  {
   "cell_type": "markdown",
   "id": "e179fc89-649b-44f9-96e2-2007ce9e7302",
   "metadata": {},
   "source": [
    "### 2.b (6 marks)\n",
    "There are seven categorial features in the dataset namely, *f_aoi_tier, f_primary_age_tier, f_fire_alarm_type, f_marital, f_mile_fire_station, f_primary_gender, f_residence_location*. Display all the unique values of these seven categories."
   ]
  },
  {
   "cell_type": "code",
   "execution_count": 21,
   "id": "08e93ff8-c65b-472d-89b9-3160fb4ce0cd",
   "metadata": {},
   "outputs": [
    {
     "name": "stdout",
     "output_type": "stream",
     "text": [
      "Unique values in column 'f_aoi_tier': ['351K - 600K' '< 100K' '100K - 350K' '601K - 1M' '> 1M']\n",
      "Unique values in column 'f_primary_age_tier': ['21 - 27' '38 - 60' '28 - 37' '> 60' '< 21']\n",
      "Unique values in column 'f_fire_alarm_type': ['Alarm Service' nan 'Standalone']\n",
      "Unique values in column 'f_marital': ['Married' 'Un-Married' 'Not Married']\n",
      "Unique values in column 'f_mile_fire_station': ['< 1 mile' '1 - 5 miles' '> 10 miles' '6 - 10 miles']\n",
      "Unique values in column 'f_primary_gender': ['Male' 'Female']\n",
      "Unique values in column 'f_residence_location': ['Urban' 'Suburban' 'Rural']\n"
     ]
    }
   ],
   "source": [
    "CATEGORICAL = [\n",
    "    'f_aoi_tier',\n",
    "    'f_primary_age_tier',\n",
    "    'f_fire_alarm_type',\n",
    "    'f_marital',\n",
    "    'f_mile_fire_station',\n",
    "    'f_primary_gender',\n",
    "    'f_residence_location'\n",
    "]\n",
    "\n",
    "def display_unique_values(column):\n",
    "    df = pd.read_excel('lab02_dataset_2_freq.xlsx')\n",
    "    unique_values = df[column].unique()\n",
    "    print(f\"Unique values in column '{column}': {unique_values}\")\n",
    "\n",
    "if __name__ == \"__main__\":\n",
    "    for col in CATEGORICAL:\n",
    "        display_unique_values(col)"
   ]
  },
  {
   "cell_type": "markdown",
   "id": "19fc705d-6a0a-4dd9-afa3-5aa610e9bb82",
   "metadata": {},
   "source": [
    "### 2.c (6 marks)\n",
    "We will train SVM models using those seven categorical features. However, their values are currently all categorical data, but SVM requires them to be numerical. Perform `One-hot Encoding` on these features to obtain an updated dataset which has only numerical values."
   ]
  },
  {
   "cell_type": "code",
   "execution_count": 34,
   "id": "f8822f40-0e48-4755-91c5-1a4809ae593a",
   "metadata": {},
   "outputs": [],
   "source": [
    "from sklearn.preprocessing import OneHotEncoder\n",
    "\n",
    "def one_hot_encode(columns):\n",
    "    df = pd.read_excel('lab02_dataset_2_freq.xlsx')\n",
    "    dropped = df[['policy', 'frequency_group']]\n",
    "    data = df.drop(columns=['policy', 'frequency_group']).astype(str).fillna('Missing')\n",
    "    encoder = OneHotEncoder(handle_unknown='ignore', sparse_output=False, drop='first')\n",
    "    encoded_data = encoder.fit_transform(data[columns])\n",
    "    encoded_df = pd.DataFrame(encoded_data, columns=encoder.get_feature_names_out(columns))\n",
    "    df = pd.concat([encoded_df, dropped], axis=1)\n",
    "    df.to_excel('lab02_dataset_2_encoded.xlsx', index=False)\n",
    "    \n",
    "if __name__ == \"__main__\":\n",
    "    one_hot_encode(CATEGORICAL)"
   ]
  },
  {
   "cell_type": "markdown",
   "id": "a95862c3-225a-477b-a0a5-f3f91105ac46",
   "metadata": {},
   "source": [
    "### 2.d (6 marks)\n",
    "Divide the observations into training and testing partitions. Observations whose *Policy Identifier* starts with the letters A, G, and P will go to the training partition. The remaining observations go to the testing partition. Output the total number of policies present in the Training partition and Testing partition."
   ]
  },
  {
   "cell_type": "code",
   "execution_count": 28,
   "id": "7454f212-5930-49f7-8e10-970db06ecaa8",
   "metadata": {},
   "outputs": [
    {
     "name": "stdout",
     "output_type": "stream",
     "text": [
      "Training set size: 20661\n",
      "Testing set size: 6852\n"
     ]
    }
   ],
   "source": [
    "def split_by_policy():\n",
    "    df = pd.read_excel('lab02_dataset_2_encoded.xlsx')\n",
    "    policy = df['policy'].astype(str).str.strip().str.upper()\n",
    "    \n",
    "    mask = policy.str.startswith(('A', 'G', 'P'))\n",
    "    \n",
    "    training_data = df[mask]\n",
    "    testing_data = df[~mask]\n",
    "    \n",
    "    training_data.to_excel('lab02_dataset_2_train.xlsx', index=False)\n",
    "    testing_data.to_excel('lab02_dataset_2_test.xlsx', index=False)\n",
    "    \n",
    "    return len(training_data), len(testing_data)\n",
    "\n",
    "if __name__ == \"__main__\":\n",
    "    train, test = split_by_policy()\n",
    "    print(f\"Training set size: {train}\")\n",
    "    print(f\"Testing set size: {test}\")\n"
   ]
  },
  {
   "cell_type": "markdown",
   "id": "89c10661-ae7c-4a9e-82dc-2a6ac4597e41",
   "metadata": {},
   "source": [
    "### 2.e (6 marks)\n",
    "Train an SVM model using [`LinearSVC`](https://scikit-learn.org/stable/modules/generated/sklearn.svm.LinearSVC.html). The input features will be the encoded version of the feature set *f_aoi_tier, f_primary_age_tier, f_fire_alarm_type, f_marital, f_mile_fire_station, f_primary_gender, f_residence_location* and the output is the *Frequency Group*. Use `verbose=1` to observe the optimization steps during the training process."
   ]
  },
  {
   "cell_type": "code",
   "execution_count": null,
   "id": "1b90a086-3ea3-48be-882e-e94ea5b5c057",
   "metadata": {},
   "outputs": [],
   "source": [
    "from sklearn.svm import LinearSVC\n",
    "\n",
    "def _ohe_cols(df, cols):\n",
    "    return [c for c in df.columns if any(c.startswith(col + '_') for col in cols)]\n",
    "\n",
    "def train_svm():\n",
    "    train_data = pd.read_excel('lab02_dataset_2_train.xlsx')\n",
    "    test_data = pd.read_excel('lab02_dataset_2_test.xlsx')\n",
    "\n",
    "    y_train = train_data['frequency_group'].astype(int).to_numpy()\n",
    "\n",
    "    feat_cols_train = _ohe_cols(train_data, CATEGORICAL)\n",
    "    feat_cols_test  = _ohe_cols(test_data,  CATEGORICAL)\n",
    "\n",
    "    all_cols = sorted(set(feat_cols_train) | set(feat_cols_test))\n",
    "    x_train = train_data.reindex(columns=all_cols, fill_value=0).to_numpy(dtype=float)\n",
    "    \n",
    "    clf = LinearSVC(C=1.0, dual='auto', max_iter=20000, verbose=1, random_state=0)\n",
    "    clf.fit(x_train, y_train)\n",
    "    \n",
    "    return clf"
   ]
  },
  {
   "cell_type": "markdown",
   "id": "e0e663d4-fd3f-42a7-b544-1aa3403aab42",
   "metadata": {},
   "source": [
    "### 2.f (5 marks)\n",
    "Compute and output the accuracy score on the testing partition."
   ]
  },
  {
   "cell_type": "code",
   "execution_count": 55,
   "id": "e97b64ad-ab6b-4bbf-aafd-36a1464464df",
   "metadata": {},
   "outputs": [
    {
     "name": "stdout",
     "output_type": "stream",
     "text": [
      "[LibLinear]Train accuracy: 0.49169933691496054\n",
      "Test accuracy: 0.4918272037361354\n",
      "              precision    recall  f1-score   support\n",
      "\n",
      "           0       0.60      0.82      0.70      3858\n",
      "           1       0.28      0.05      0.09      1750\n",
      "           2       0.13      0.06      0.08       779\n",
      "           3       0.05      0.08      0.06       214\n",
      "           4       0.07      0.14      0.09       251\n",
      "\n",
      "    accuracy                           0.49      6852\n",
      "   macro avg       0.23      0.23      0.20      6852\n",
      "weighted avg       0.43      0.49      0.43      6852\n",
      "\n"
     ]
    }
   ],
   "source": [
    "from sklearn.metrics import accuracy_score, classification_report\n",
    "\n",
    "if __name__ == \"__main__\":\n",
    "    svm_model = train_svm()\n",
    "    \n",
    "    train_data = pd.read_excel('lab02_dataset_2_train.xlsx')\n",
    "    test_data = pd.read_excel('lab02_dataset_2_test.xlsx')\n",
    "\n",
    "    feat_cols_train = _ohe_cols(train_data, CATEGORICAL)\n",
    "    feat_cols_test  = _ohe_cols(test_data,  CATEGORICAL)\n",
    "\n",
    "    all_cols = sorted(set(feat_cols_train) | set(feat_cols_test))\n",
    "    x_train = train_data.reindex(columns=all_cols, fill_value=0).to_numpy(dtype=float)\n",
    "    x_test  = test_data.reindex(columns=all_cols,  fill_value=0).to_numpy(dtype=float)\n",
    "\n",
    "    train_predict = svm_model.predict(x_train)\n",
    "    test_predict = svm_model.predict(x_test)\n",
    "    \n",
    "    print(f\"Train accuracy: {accuracy_score(train_data['frequency_group'].astype(int).to_numpy(), train_predict)}\")\n",
    "    print(f\"Test accuracy: {accuracy_score(test_data['frequency_group'].astype(int).to_numpy(), test_predict)}\")\n",
    "    \n",
    "    print(classification_report(test_data['frequency_group'], test_predict, labels=[0,1,2,3,4], zero_division=0))"
   ]
  }
 ],
 "metadata": {
  "kernelspec": {
   "display_name": ".venv",
   "language": "python",
   "name": "python3"
  },
  "language_info": {
   "codemirror_mode": {
    "name": "ipython",
    "version": 3
   },
   "file_extension": ".py",
   "mimetype": "text/x-python",
   "name": "python",
   "nbconvert_exporter": "python",
   "pygments_lexer": "ipython3",
   "version": "3.13.1"
  }
 },
 "nbformat": 4,
 "nbformat_minor": 5
}
