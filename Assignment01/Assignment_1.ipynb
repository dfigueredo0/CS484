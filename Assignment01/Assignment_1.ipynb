{
 "cells": [
  {
   "cell_type": "markdown",
   "id": "e1ccce14-aa23-4714-9cae-1bcd18e08258",
   "metadata": {},
   "source": [
    "## Assignment 1 (50 marks)\n",
    "#### =====================================================================================================\n",
    "### Deadline: 09/14 11:59 pm\n",
    "#### ====================================================================================================="
   ]
  },
  {
   "cell_type": "markdown",
   "id": "eb0d31af-2540-4440-b94f-a0539740f4b9",
   "metadata": {},
   "source": [
    "## Decision Tree Classification"
   ]
  },
  {
   "attachments": {},
   "cell_type": "markdown",
   "id": "1943b8d4",
   "metadata": {},
   "source": [
    "### Problem 1 (25 marks)\n",
    "\n",
    "`lab01_dataset_1.csv` contains a mixture of numerical and categorical data. Your task will be to write a function `my_ID3()` (without using the sklearn decision tree library) which can create a decision tree for the given dataset using the ID3 algorithm."
   ]
  },
  {
   "attachments": {},
   "cell_type": "markdown",
   "id": "e4d239a4",
   "metadata": {},
   "source": [
    "### 1.a (5 marks)\n",
    "\n",
    "ID3 cannot handle continuous numerical data. Perform the necessary operations to convert the continuous-valued attribute to boolean attributes (refer to page 40 of Decision Tree.pdf). Do not use any of the sklearn library for this task. Display the updated dataset after handling continuous-valued attribute."
   ]
  },
  {
   "cell_type": "code",
   "execution_count": null,
   "id": "6753df8c",
   "metadata": {},
   "outputs": [],
   "source": []
  },
  {
   "attachments": {},
   "cell_type": "markdown",
   "id": "7baf7d31",
   "metadata": {},
   "source": [
    "### 1.b (6 marks)\n",
    "\n",
    "Next, you will have to ensure that the newly obtained dataset is optimal and free of errors. Take appropriate actions based on the outcomes of the following steps:\n",
    "\n",
    "Check if the dataset has any missing values. (2 marks)<br>\n",
    "Check if the dataset has any redundant or repeated input sample. (2 marks)<br>\n",
    "Check if the dataset has any contradicting <input, output> pairs. (2 marks)\n",
    "\n",
    "Do note that you need to perform all the above steps programmatically and not simply by visual examination."
   ]
  },
  {
   "cell_type": "code",
   "execution_count": null,
   "id": "a6104789",
   "metadata": {},
   "outputs": [],
   "source": []
  },
  {
   "attachments": {},
   "cell_type": "markdown",
   "id": "d3a8a070",
   "metadata": {},
   "source": [
    "### 1.c (10 marks)\n",
    "\n",
    "Your function `my_ID3()` should operate in a manner such that after ever round of decision making, it will output the attributes and its associated gain, with a message stating “Attribute X with Gain = Y is chosen as the decision attribute”. You can obviously create other functions as needed for completing `my_ID3()`."
   ]
  },
  {
   "cell_type": "code",
   "execution_count": null,
   "id": "701a4e69",
   "metadata": {},
   "outputs": [],
   "source": [
    "def my_ID3(dataset): # the input to the function is the final dataset you obtain after 1.b.\n",
    "    # iterate until decision tree is created.\n",
    "        # ID3 algorithm involves two mathematial computation.\n",
    "        # Entropy and Information Gain (check pages 12 to 15 of Decision Tree.pdf).\n",
    "        # Attributes with maximum Information Gain is chosen as decision nodes to split the data.\n",
    "        # Students should print out each decision nodes alongwith their respective Information Gain.\n",
    "    return decision_tree"
   ]
  },
  {
   "attachments": {},
   "cell_type": "markdown",
   "id": "94c6b633-179b-4572-bec9-6a8e55801309",
   "metadata": {},
   "source": [
    "### 1.d (4 marks)\n",
    "\n",
    "Display the decision tree. The representation of the decision tree is upto you. You can choose either a textual representation or a graphical one; either is fine."
   ]
  },
  {
   "cell_type": "code",
   "execution_count": null,
   "id": "52dcc669-6c8d-463d-a494-8b6fb7e8b938",
   "metadata": {},
   "outputs": [],
   "source": []
  },
  {
   "attachments": {},
   "cell_type": "markdown",
   "id": "8fa5fd65",
   "metadata": {},
   "source": [
    "### Problem 2 (25 marks)\n",
    "\n",
    "`lab01_dataset_2.csv` has a mixture of numerical and categorical data. For this problem, you will use sklearn's [`DecisionTreeClassifier`](https://scikit-learn.org/stable/modules/generated/sklearn.tree.DecisionTreeClassifier.html) for the classification task."
   ]
  },
  {
   "cell_type": "markdown",
   "id": "d5855f31-3b64-4c32-98ad-830e31430758",
   "metadata": {},
   "source": [
    "### 2.a (5 marks)\n",
    "\n",
    "Encode all the categorial data into numerical data using `One-hot Encoding` and display the new dataset."
   ]
  },
  {
   "cell_type": "code",
   "execution_count": null,
   "id": "670ddd32",
   "metadata": {},
   "outputs": [],
   "source": []
  },
  {
   "attachments": {},
   "cell_type": "markdown",
   "id": "538d2d0c",
   "metadata": {},
   "source": [
    "### 2.b (10 marks)\n",
    "\n",
    "Using the encoded dataset, perform the supervised learning using [`DecisionTreeClassifier`](https://scikit-learn.org/stable/modules/generated/sklearn.tree.DecisionTreeClassifier.html). Employ the [`train_test_split`](https://scikit-learn.org/stable/modules/generated/sklearn.model_selection.train_test_split.html) of 80-20 during the training."
   ]
  },
  {
   "cell_type": "code",
   "execution_count": null,
   "id": "99c15f46",
   "metadata": {},
   "outputs": [],
   "source": []
  },
  {
   "attachments": {},
   "cell_type": "markdown",
   "id": "ce9df279",
   "metadata": {},
   "source": [
    "### 2.c (5 marks)\n",
    "\n",
    "After the training is complete, show the results by predicting the class of the test set. Display the results of the prediction and test set side-by-side."
   ]
  },
  {
   "cell_type": "code",
   "execution_count": null,
   "id": "f038e83d",
   "metadata": {},
   "outputs": [],
   "source": []
  },
  {
   "attachments": {},
   "cell_type": "markdown",
   "id": "efe8c0ec",
   "metadata": {},
   "source": [
    "### 2.d (5 marks)\n",
    "\n",
    "Display the decision tree; it can be either a textual representation or a graphical representation."
   ]
  },
  {
   "cell_type": "code",
   "execution_count": null,
   "id": "f9c0eed4",
   "metadata": {},
   "outputs": [],
   "source": []
  }
 ],
 "metadata": {
  "kernelspec": {
   "display_name": "Python 3 (ipykernel)",
   "language": "python",
   "name": "python3"
  },
  "language_info": {
   "codemirror_mode": {
    "name": "ipython",
    "version": 3
   },
   "file_extension": ".py",
   "mimetype": "text/x-python",
   "name": "python",
   "nbconvert_exporter": "python",
   "pygments_lexer": "ipython3",
   "version": "3.13.5"
  }
 },
 "nbformat": 4,
 "nbformat_minor": 5
}
